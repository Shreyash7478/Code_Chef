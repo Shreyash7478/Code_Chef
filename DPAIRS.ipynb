{
 "cells": [
  {
   "cell_type": "code",
   "execution_count": 13,
   "metadata": {
    "collapsed": true
   },
   "outputs": [],
   "source": [
    "import numpy as np"
   ]
  },
  {
   "cell_type": "code",
   "execution_count": 31,
   "metadata": {},
   "outputs": [
    {
     "name": "stdout",
     "output_type": "stream",
     "text": [
      "3 2\n",
      "5 6 2\n",
      "7 3\n",
      "1 2\n",
      "1 0\n",
      "1 1\n",
      "0 0\n",
      "0 1\n"
     ]
    }
   ],
   "source": [
    "n,m = input().split()\n",
    "n = int(n)\n",
    "m = int(m)\n",
    "arr_n = np.array(input().split()).argsort()\n",
    "arr_m = np.array(input().split()).argsort()\n",
    "if m > n:\n",
    "    for i in range(n):\n",
    "        for j in arr_m[i:]:\n",
    "            print(f\"{arr_n[i]} {j}\")\n",
    "else:\n",
    "    for i in range(m):\n",
    "        for j in arr_n[i:]:\n",
    "            print(f\"{arr_m[i]} {j}\")\n",
    "    "
   ]
  },
  {
   "cell_type": "code",
   "execution_count": 34,
   "metadata": {},
   "outputs": [
    {
     "name": "stdout",
     "output_type": "stream",
     "text": [
      "3 2\n",
      "1 10 100\n",
      "4 3\n",
      "1 0\n",
      "1 1\n",
      "1 2\n",
      "0 1\n"
     ]
    }
   ],
   "source": [
    "n,m = input().split()\n",
    "n = int(n)\n",
    "m = int(m)\n",
    "count = n + m - 1\n",
    "arr_n = np.array(input().split()).argsort()\n",
    "arr_m = np.array(input().split()).argsort()\n",
    "if m > n:\n",
    "    for i in range(n):\n",
    "        for j in arr_m[i:]:\n",
    "            if count > 0:\n",
    "                print(f\"{arr_n[i]} {j}\")\n",
    "                count = count - 1\n",
    "else:\n",
    "    for i in range(m):\n",
    "        for j in arr_n[i:]:\n",
    "            if count > 0:\n",
    "                print(f\"{arr_m[i]} {j}\")\n",
    "                count = count - 1\n",
    "    "
   ]
  },
  {
   "cell_type": "code",
   "execution_count": 20,
   "metadata": {},
   "outputs": [
    {
     "data": {
      "text/plain": [
       "array([1, 2])"
      ]
     },
     "execution_count": 20,
     "metadata": {},
     "output_type": "execute_result"
    }
   ],
   "source": [
    "np.array(a,dtype=\"int\")"
   ]
  },
  {
   "cell_type": "code",
   "execution_count": 16,
   "metadata": {
    "collapsed": true
   },
   "outputs": [],
   "source": [
    "b= [1,2]"
   ]
  },
  {
   "cell_type": "code",
   "execution_count": 26,
   "metadata": {},
   "outputs": [],
   "source": [
    "a=np.array(b)"
   ]
  },
  {
   "cell_type": "code",
   "execution_count": 27,
   "metadata": {},
   "outputs": [
    {
     "data": {
      "text/plain": [
       "array([0, 1], dtype=int64)"
      ]
     },
     "execution_count": 27,
     "metadata": {},
     "output_type": "execute_result"
    }
   ],
   "source": [
    "a.argsort()"
   ]
  },
  {
   "cell_type": "code",
   "execution_count": 28,
   "metadata": {},
   "outputs": [
    {
     "data": {
      "text/plain": [
       "2"
      ]
     },
     "execution_count": 28,
     "metadata": {},
     "output_type": "execute_result"
    }
   ],
   "source": [
    "len(a)"
   ]
  },
  {
   "cell_type": "code",
   "execution_count": null,
   "metadata": {
    "collapsed": true
   },
   "outputs": [],
   "source": []
  }
 ],
 "metadata": {
  "kernelspec": {
   "display_name": "Python 3",
   "language": "python",
   "name": "python3"
  },
  "language_info": {
   "codemirror_mode": {
    "name": "ipython",
    "version": 3
   },
   "file_extension": ".py",
   "mimetype": "text/x-python",
   "name": "python",
   "nbconvert_exporter": "python",
   "pygments_lexer": "ipython3",
   "version": "3.6.3"
  }
 },
 "nbformat": 4,
 "nbformat_minor": 2
}
